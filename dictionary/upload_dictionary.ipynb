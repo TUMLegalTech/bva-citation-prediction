{
  "cells": [
    {
      "cell_type": "markdown",
      "metadata": {
        "colab_type": "text",
        "id": "mKy-uuRPltEM"
      },
      "source": [
        "This notebook converts the data dictionaries from .csv to .json format and uploads it to the Mongodb collection `data_dictionary`."
      ]
    },
    {
      "cell_type": "code",
      "execution_count": 52,
      "metadata": {
        "colab": {
          "base_uri": "https://localhost:8080/",
          "height": 35
        },
        "colab_type": "code",
        "id": "SvaHyguPyBLp",
        "outputId": "40e587f5-7441-431b-d373-b4feeffdaa83"
      },
      "outputs": [
        {
          "data": {
            "text/plain": [
              "True"
            ]
          },
          "execution_count": 52,
          "metadata": {
            "tags": []
          },
          "output_type": "execute_result"
        }
      ],
      "source": [
        "# connect to mongo database\n",
        "import pymongo\n",
        "from db_config import *\n",
        "db = pymongo.MongoClient(host=DB_HOST, port=DB_PORT)[DB_DATABASE]\n",
        "db.authenticate(DB_USER, DB_PASSWORD)"
      ]
    },
    {
      "cell_type": "markdown",
      "metadata": {
        "colab_type": "text",
        "id": "mRJQJg-NmltC"
      },
      "source": [
        "### Load Files"
      ]
    },
    {
      "cell_type": "code",
      "execution_count": null,
      "metadata": {
        "colab": {},
        "colab_type": "code",
        "id": "WVFwQB6wmnwP"
      },
      "outputs": [],
      "source": [
        "import pandas as pd\n",
        "import numpy as np\n",
        "import json\n",
        "issue_csv = pd.read_csv(\"issue_dict.csv\", dtype=str)\n",
        "issdc_csv = pd.read_csv(\"issdc_dict.csv\", dtype=str)\n",
        "cvdisp_csv = pd.read_csv(\"cvdisp_dict.csv\", dtype=str)"
      ]
    },
    {
      "cell_type": "markdown",
      "metadata": {
        "colab_type": "text",
        "id": "zuW9pMxPmZYF"
      },
      "source": [
        "### Code to Convert to Json\n",
        "This code converts the .csv files to .json"
      ]
    },
    {
      "cell_type": "code",
      "execution_count": null,
      "metadata": {
        "colab": {},
        "colab_type": "code",
        "id": "BxC_VN97l9u8"
      },
      "outputs": [],
      "source": [
        "# Convert csv files for the bva codes into json files\n",
        "# Recursively scans columns left to right, depth-first\n",
        "def make_dict(df):\n",
        "    if df.shape[0] == 0 or df.shape[1] == 0:\n",
        "        return\n",
        "\n",
        "    code_name = df.columns[0]\n",
        "    label_name = df.columns[1]\n",
        "    current_code = code_name.split(\"_\")[0]\n",
        "    current_dict = {}\n",
        "    child_dict = {}\n",
        "\n",
        "    for code in df[code_name].unique():\n",
        "\n",
        "        # Subset based on each code value\n",
        "        df_subset = df[df[code_name] == code]\n",
        "        label = df_subset[label_name].unique()\n",
        "        if len(label) == 0:\n",
        "            continue\n",
        "        df_subset = df_subset.drop([code_name, label_name], axis=1)\n",
        "        child_dict[code] = {\"label\": label[0]}\n",
        "\n",
        "        # If columns remaining, append children\n",
        "        if df_subset.shape[1] > 0 and df_subset.shape[0] > 0:\n",
        "            grandchild = make_dict(df_subset)\n",
        "            if len(grandchild) > 0:\n",
        "                child_dict[code].update(**grandchild)\n",
        "\n",
        "    # Finally append\n",
        "    if len(child_dict) > 0:\n",
        "        current_dict[current_code] = child_dict\n",
        "\n",
        "    return current_dict"
      ]
    },
    {
      "cell_type": "code",
      "execution_count": null,
      "metadata": {
        "colab": {},
        "colab_type": "code",
        "id": "kx80KYI2ymXi"
      },
      "outputs": [],
      "source": [
        "# Compute\n",
        "dictionaries = [{\"name\": \"issue\", \"dict\": make_dict(issue_csv)},\n",
        "                {\"name\": \"issdc\", \"dict\": make_dict(issdc_csv)},\n",
        "                {\"name\": \"cvdisp\", \"dict\": make_dict(cvdisp_csv)}]"
      ]
    },
    {
      "cell_type": "code",
      "execution_count": 65,
      "metadata": {
        "colab": {
          "base_uri": "https://localhost:8080/",
          "height": 1000
        },
        "colab_type": "code",
        "id": "9tF1Y1bsyxvk",
        "outputId": "eafc7073-d88d-4b8e-8ed3-31d1d1272492"
      },
      "outputs": [
        {
          "name": "stdout",
          "output_type": "stream",
          "text": [
            "{\n",
            "  \"name\": \"issdc\",\n",
            "  \"dict\": {\n",
            "    \"issdc\": {\n",
            "      \"1\": {\n",
            "        \"label\": \"Allowed (Board Code)\"\n",
            "      },\n",
            "      \"3\": {\n",
            "        \"label\": \"Remanded (Board Code)\"\n",
            "      },\n",
            "      \"4\": {\n",
            "        \"label\": \"Denied (Board Code)\"\n",
            "      },\n",
            "      \"5\": {\n",
            "        \"label\": \"Vacated (Board Code)\"\n",
            "      },\n",
            "      \"6\": {\n",
            "        \"label\": \"Dismissed/Withdrawn (Board Code)\"\n",
            "      },\n",
            "      \"8\": {\n",
            "        \"label\": \"Dismissed Death (Board Code)\"\n",
            "      },\n",
            "      \"9\": {\n",
            "        \"label\": \"Withdrawn (Obsolete Board Code, no longer used)\"\n",
            "      },\n",
            "      \"A\": {\n",
            "        \"label\": \"Adv Allowed in Field (VBA Code)\"\n",
            "      },\n",
            "      \"B\": {\n",
            "        \"label\": \"Benefits granted on Remand (VBA Code)\"\n",
            "      },\n",
            "      \"D\": {\n",
            "        \"label\": \"Designation of Record (DOR) (Board Code)\"\n",
            "      },\n",
            "      \"E\": {\n",
            "        \"label\": \"Death, Field (VBA Code)\"\n",
            "      },\n",
            "      \"F\": {\n",
            "        \"label\": \"Withdrawn, Field (VBA Code)\"\n",
            "      },\n",
            "      \"G\": {\n",
            "        \"label\": \"Closed for Failure to Submit Form 9 (VBA Code)\"\n",
            "      },\n",
            "      \"L\": {\n",
            "        \"label\": \"Manlincon New Issue (Field) (VBA Code)\"\n",
            "      },\n",
            "      \"M\": {\n",
            "        \"label\": \"Merged Appeal (Board Code)\"\n",
            "      },\n",
            "      \"P\": {\n",
            "        \"label\": \"RAMP Withdraw (VBA Code)\"\n",
            "      },\n",
            "      \"R\": {\n",
            "        \"label\": \"Reconsideration by Letter (Board Code)\"\n",
            "      },\n",
            "      \"S\": {\n",
            "        \"label\": \"Stay (Board Code)\"\n",
            "      },\n",
            "      \"U\": {\n",
            "        \"label\": \"Motion to Vacate Denied (Board Code)\"\n",
            "      },\n",
            "      \"V\": {\n",
            "        \"label\": \"Motion to Vacate Withdrawn (Board Code)\"\n",
            "      },\n",
            "      \"W\": {\n",
            "        \"label\": \"Withdrawn on Remand (VBA Code)\"\n",
            "      },\n",
            "      \"X\": {\n",
            "        \"label\": \"Failure to Respond on Remand (VBA Code)\"\n",
            "      }\n",
            "    }\n",
            "  }\n",
            "}\n"
          ]
        }
      ],
      "source": [
        "# Example\n",
        "print(json.dumps(dictionaries[1], indent=2))"
      ]
    },
    {
      "cell_type": "code",
      "execution_count": 58,
      "metadata": {
        "colab": {
          "base_uri": "https://localhost:8080/",
          "height": 35
        },
        "colab_type": "code",
        "id": "-BRJPD_lx2bM",
        "outputId": "918fb18f-5ebb-480a-fd9e-81cda54b5118"
      },
      "outputs": [
        {
          "data": {
            "text/plain": [
              "<pymongo.results.InsertManyResult at 0x7f80ae4fcec8>"
            ]
          },
          "execution_count": 58,
          "metadata": {
            "tags": []
          },
          "output_type": "execute_result"
        }
      ],
      "source": [
        "# Upload to mongodb\n",
        "db.code_dictionary.insert_many(dictionaries)"
      ]
    },
    {
      "cell_type": "code",
      "execution_count": 83,
      "metadata": {
        "colab": {
          "base_uri": "https://localhost:8080/",
          "height": 35
        },
        "colab_type": "code",
        "id": "d3pNoiJIzePu",
        "outputId": "7d2f7995-9bee-462b-c81c-dc934c6f3c58"
      },
      "outputs": [
        {
          "data": {
            "text/plain": [
              "'Civil Service preference'"
            ]
          },
          "execution_count": 83,
          "metadata": {
            "tags": []
          },
          "output_type": "execute_result"
        }
      ],
      "source": [
        "# Look up dictionary\n",
        "issue_dict = db.code_dictionary.find_one({\"name\": \"issue\"})\n",
        "issue_dict[\"dict\"][\"issprog\"][\"2\"][\"isscode\"][\"4\"][\"label\"] # Label of issprog=2, isscode=4"
      ]
    }
  ],
  "metadata": {
    "colab": {
      "authorship_tag": "ABX9TyO+uvkK5DThBE1PpqPhDX5Q",
      "collapsed_sections": [],
      "include_colab_link": true,
      "name": "upload_dictionary.ipynb",
      "provenance": [],
      "toc_visible": true
    },
    "kernelspec": {
      "display_name": "Python 3",
      "name": "python3"
    }
  },
  "nbformat": 4,
  "nbformat_minor": 0
}
