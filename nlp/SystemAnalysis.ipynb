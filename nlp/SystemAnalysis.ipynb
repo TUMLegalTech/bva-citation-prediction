{
 "cells": [
  {
   "cell_type": "code",
   "execution_count": 83,
   "metadata": {},
   "outputs": [],
   "source": [
    "import sys, os\n",
    "import pandas as pd\n",
    "import matplotlib.pyplot as plt\n",
    "from mpl_toolkits.mplot3d import axes3d \n",
    "import pickle\n",
    "import numpy as np\n",
    "sys.path.append('../../../git/bva-capstone/nlp')"
   ]
  },
  {
   "cell_type": "code",
   "execution_count": 91,
   "metadata": {},
   "outputs": [],
   "source": [
    "analysis_csv_path = '../../../data/bva/logs/roberta-idx-all-meta-f128-c256_checkpoint-49005_test_stats_latest.csv'\n",
    "judge_emb_path = '../../../data/bva/checkpoints/roberta-idx-all-meta-f128-c256_checkpoint-49005-judge-emb_test_latest.npy'\n",
    "vocab_path = '../../../data/bva/vocab/thresholded_vocab.pkl'\n",
    "img_export_path = '../../../data/bva/images'"
   ]
  },
  {
   "cell_type": "code",
   "execution_count": 92,
   "metadata": {},
   "outputs": [
    {
     "data": {
      "text/plain": [
       "[-0.002472892, -0.030525075, 0.0017707502]"
      ]
     },
     "execution_count": 92,
     "metadata": {},
     "output_type": "execute_result"
    }
   ],
   "source": [
    "judge_embeddings = np.load(judge_emb_path)\n",
    "list(judge_embeddings[0])"
   ]
  },
  {
   "cell_type": "code",
   "execution_count": 93,
   "metadata": {},
   "outputs": [],
   "source": [
    "df = pd.read_csv(analysis_csv_path, delimiter=';')\n",
    "min_year, max_year = min(df.year), max(df.year)\n",
    "min_judge, max_judge = min(df.judge), max(df.judge)\n",
    "years = list(range(min_year, max_year+1))\n",
    "with open(vocab_path, 'rb') as f:\n",
    "    vocab = pickle.load(f)"
   ]
  },
  {
   "cell_type": "code",
   "execution_count": 94,
   "metadata": {},
   "outputs": [],
   "source": [
    "cit_class_dict = {}\n",
    "for cit_id in range(0, len(vocab)):\n",
    "    cl = vocab.citation_source_class_by_index(cit_id)\n",
    "    if cl not in cit_class_dict:\n",
    "        cit_class_dict[cl] = [cit_id]\n",
    "    else:\n",
    "        cit_class_dict[cl].append(cit_id)"
   ]
  },
  {
   "cell_type": "code",
   "execution_count": 95,
   "metadata": {},
   "outputs": [],
   "source": [
    "def recall_at_k_in_year(df, k, year):\n",
    "    dfx = df[(df['year'] == year) & (df['position'] < k)]\n",
    "    total_df = df[df['year'] == year]\n",
    "    return len(dfx) / len(total_df)\n",
    "\n",
    "\n",
    "def recall_at_k_in_class(df, k, cl, year=None):\n",
    "    dfx = df[(df['label'].isin(cit_class_dict[cl])) & (df['position'] < k)]\n",
    "    total_df = df[df['label'].isin(cit_class_dict[cl])]\n",
    "    if year:\n",
    "        dfx = dfx[dfx['year'] == year]\n",
    "        total_df = total_df[total_df['year'] == year]\n",
    "    return len(dfx) / len(total_df)\n",
    "\n",
    "def per_citation_recalls_at_k(df, k):\n",
    "    rs = []\n",
    "    num_uncited = 0\n",
    "    for i in range(len(vocab)):\n",
    "        dft = df[(df['label'] == i)]\n",
    "        if len(dft) > 0:\n",
    "            dfx = dft[dft['position'] < k]\n",
    "            rs.append([i, len(dft), len(dfx) / len(dft)])\n",
    "        else:\n",
    "            num_uncited += 1\n",
    "    return rs, num_uncited\n",
    "\n",
    "def per_judge_recalls_at_k(df, k):\n",
    "    rs = []\n",
    "    num_no_opinions = 0\n",
    "    for j in range(min_judge, max_judge+1):\n",
    "        dft = df[(df['judge'] == j)]\n",
    "        if len(dft) > 0:\n",
    "            dfx = dft[dft['position'] < k]\n",
    "            rs.append([j, len(dft), len(dfx) / len(dft), list(judge_embeddings[j])])\n",
    "        else:\n",
    "            num_no_opinions += 1\n",
    "    return rs, num_no_opinions\n"
   ]
  },
  {
   "cell_type": "code",
   "execution_count": 96,
   "metadata": {},
   "outputs": [],
   "source": [
    "recalls_at_1 = [recall_at_k_in_year(df, 1, y) for y in years]\n",
    "recalls_at_5 = [recall_at_k_in_year(df, 5, y) for y in years]\n",
    "recalls_at_20 = [recall_at_k_in_year(df, 20, y) for y in years]\n",
    "plt.plot(years, recalls_at_20, label='k = 20')\n",
    "plt.plot(years, recalls_at_5, label='k = 5')\n",
    "plt.plot(years, recalls_at_1, label='k = 1')\n",
    "plt.xticks(years, rotation='vertical')\n",
    "plt.ylim(.3, 1.0)\n",
    "plt.legend()\n",
    "plt.title('RoBERTa c256->f128 Overall Recall @ k over Time')\n",
    "plt.savefig(os.path.join(img_export_path, 'roberta_256_128_recall.pdf'))\n",
    "plt.show()"
   ]
  },
  {
   "cell_type": "code",
   "execution_count": 97,
   "metadata": {},
   "outputs": [],
   "source": [
    "k = 1\n",
    "recall_at_1_case = [recall_at_k_in_class(df, k, 'case', year=y) for y in years]\n",
    "recall_at_1_reg = [recall_at_k_in_class(df, k, 'reg', year=y) for y in years]\n",
    "recall_at_1_code = [recall_at_k_in_class(df, k, 'code', year=y) for y in years]\n",
    "plt.plot(years, recall_at_1_case, label='case')\n",
    "plt.plot(years, recall_at_1_reg, label='regulation')\n",
    "plt.plot(years, recall_at_1_code, label='statute')\n",
    "plt.xticks(years, rotation='vertical')\n",
    "plt.ylabel(f'citation recall @ {k}')\n",
    "plt.xlabel(f'decision year')\n",
    "plt.ylim(.0, 1.0)\n",
    "plt.legend()\n",
    "plt.savefig(os.path.join(img_export_path, 'roberta_256_128_per_class_recall_at_1.pdf'))\n",
    "plt.show()"
   ]
  },
  {
   "cell_type": "code",
   "execution_count": 98,
   "metadata": {},
   "outputs": [
    {
     "name": "stdout",
     "output_type": "stream",
     "text": [
      "2063\n",
      "2603\n"
     ]
    },
    {
     "data": {
      "image/png": "[encoded data removed]",
      "text/plain": [
       "<Figure size 432x288 with 2 Axes>"
      ]
     },
     "metadata": {
      "needs_background": "light"
     },
     "output_type": "display_data"
    }
   ],
   "source": [
    "# sort by recall\n",
    "\n",
    "%matplotlib inline\n",
    "k = 1\n",
    "per_cit_recalls, num_uncited = per_citation_recalls_at_k(df, k)\n",
    "print(len(per_cit_recalls))\n",
    "print(num_uncited)\n",
    "cit_recalls_sorted = sorted(per_cit_recalls, key=lambda x: x[2], reverse=True)\n",
    "cit_recalls = [r[2] for r in cit_recalls_sorted]\n",
    "cit_counts = [r[1] for r in cit_recalls_sorted]\n",
    "fig, ax1 = plt.subplots()\n",
    "color = 'tab:blue'\n",
    "ax1.plot(cit_counts, '.', color=color)\n",
    "ax1.set_ylabel('citation count in test data', color=color)\n",
    "ax1.set_xlabel('citations sorted by recall')\n",
    "ax2 = ax1.twinx()\n",
    "color = 'tab:red'\n",
    "ax2.plot(cit_recalls, '.', color=color)\n",
    "ax2.set_ylabel(f'citation recall @ {k}', color=color)\n",
    "plt.savefig(os.path.join(img_export_path, 'roberta_256_128_recall_at_1_vs_count.pdf'))\n",
    "plt.show()"
   ]
  },
  {
   "cell_type": "code",
   "execution_count": 66,
   "metadata": {},
   "outputs": [
    {
     "name": "stdout",
     "output_type": "stream",
     "text": [
      "293\n",
      "72\n"
     ]
    },
    {
     "data": {
      "image/png": "[encoded data removed]",
      "text/plain": [
       "<Figure size 432x288 with 2 Axes>"
      ]
     },
     "metadata": {
      "needs_background": "light"
     },
     "output_type": "display_data"
    }
   ],
   "source": [
    "# sort by recall\n",
    "%matplotlib inline\n",
    "k = 1\n",
    "per_j_recalls, num_no_opinions = per_judge_recalls_at_k(df, k)\n",
    "print(len(per_j_recalls))\n",
    "print(num_no_opinions)\n",
    "j_recalls_sorted = sorted(per_j_recalls, key=lambda x: x[2], reverse=True)\n",
    "j_recalls = [r[2] for r in j_recalls_sorted]\n",
    "j_counts = [r[1] for r in j_recalls_sorted]\n",
    "j_embs = [r[3] for r in j_recalls_sorted]\n",
    "fig, ax1 = plt.subplots()\n",
    "color = 'tab:blue'\n",
    "ax1.plot(j_counts, '.', color=color)\n",
    "ax1.set_ylabel('Judge authorship count in test data', color=color)\n",
    "ax2 = ax1.twinx()\n",
    "color = 'tab:red'\n",
    "ax2.plot(j_recalls, '.', color=color)\n",
    "ax2.set_ylabel(f'citation recall @ {k}', color=color)\n",
    "plt.show()"
   ]
  },
  {
   "cell_type": "code",
   "execution_count": 82,
   "metadata": {},
   "outputs": [],
   "source": [
    "%matplotlib qt \n",
    "fig = plt.figure()\n",
    "ax = fig.add_subplot(111, projection='3d')\n",
    "\n",
    "x = [e[0] for e in j_embs]\n",
    "y = [e[1] for e in j_embs]\n",
    "z = [e[2] for e in j_embs]\n",
    "\n",
    "ax.scatter(x, y, z, c=j_recalls, cmap='cool', marker='o')\n",
    "\n",
    "ax.set_xlabel('X Label')\n",
    "ax.set_ylabel('Y Label')\n",
    "ax.set_zlabel('Z Label')\n",
    "plt.show()"
   ]
  },
  {
   "cell_type": "code",
   "execution_count": 81,
   "metadata": {},
   "outputs": [
    {
     "name": "stdout",
     "output_type": "stream",
     "text": [
      "Warning: Cannot change to a different GUI toolkit: widget. Using qt instead.\n"
     ]
    },
    {
     "data": {
      "application/vnd.jupyter.widget-view+json": {
       "model_id": "c2e95cfc385642fabc688c2bf708cba4",
       "version_major": 2,
       "version_minor": 0
      },
      "text/plain": [
       "interactive(children=(FloatSlider(value=1.0, description='w', max=3.0, min=-1.0), Output()), _dom_classes=('wi…"
      ]
     },
     "metadata": {},
     "output_type": "display_data"
    }
   ],
   "source": [
    "from ipywidgets import *\n",
    "import numpy as np\n",
    "import matplotlib.pyplot as plt\n",
    "%matplotlib widget\n",
    "\n",
    "x = np.linspace(0, 2 * np.pi)\n",
    "fig = plt.figure()\n",
    "ax = fig.add_subplot(1, 1, 1)\n",
    "line, = ax.plot(x, np.sin(x))\n",
    "\n",
    "def update(w = 1.0):\n",
    "    line.set_ydata(np.sin(w * x))\n",
    "    fig.canvas.draw_idle()\n",
    "\n",
    "interact(update)"
   ]
  },
  {
   "cell_type": "code",
   "execution_count": 16,
   "metadata": {},
   "outputs": [
    {
     "data": {
      "application/vnd.jupyter.widget-view+json": {
       "model_id": "ad4a7e10bc8947a29c45437f43dedde4",
       "version_major": 2,
       "version_minor": 0
      },
      "text/plain": [
       "IntSlider(value=0)"
      ]
     },
     "metadata": {},
     "output_type": "display_data"
    }
   ],
   "source": [
    "import ipywidgets as widgets\n",
    "from IPython.display import display\n",
    "w = widgets.IntSlider()\n",
    "display(w)"
   ]
  },
  {
   "cell_type": "code",
   "execution_count": null,
   "metadata": {},
   "outputs": [],
   "source": []
  }
 ],
 "metadata": {
  "kernelspec": {
   "display_name": "Python 3",
   "language": "python",
   "name": "python3"
  },
  "language_info": {
   "codemirror_mode": {
    "name": "ipython",
    "version": 3
   },
   "file_extension": ".py",
   "mimetype": "text/x-python",
   "name": "python",
   "nbconvert_exporter": "python",
   "pygments_lexer": "ipython3",
   "version": "3.8.5"
  }
 },
 "nbformat": 4,
 "nbformat_minor": 4
}
