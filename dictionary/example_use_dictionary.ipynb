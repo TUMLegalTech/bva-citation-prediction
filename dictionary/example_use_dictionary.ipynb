{
  "cells": [
    {
      "cell_type": "code",
      "execution_count": 3,
      "metadata": {
        "colab": {
          "base_uri": "https://localhost:8080/",
          "height": 35
        },
        "colab_type": "code",
        "id": "bmj85OV0Ep00",
        "outputId": "f354f141-80f7-4b3e-9f58-4f07d45aa23d"
      },
      "outputs": [
        {
          "data": {
            "text/plain": [
              "True"
            ]
          },
          "execution_count": 3,
          "metadata": {
            "tags": []
          },
          "output_type": "execute_result"
        }
      ],
      "source": [
        "import pymongo\n",
        "import os\n",
        "from functools import reduce\n",
        "os.chdir('/bva-data/')\n",
        "from db_config import *     # Credentials stored here\n",
        "\n",
        "# connect to mongo database\n",
        "db = pymongo.MongoClient(host=DB_HOST, port=DB_PORT)[DB_DATABASE]\n",
        "db.authenticate(DB_USER, DB_PASSWORD)"
      ]
    },
    {
      "cell_type": "code",
      "execution_count": null,
      "metadata": {
        "colab": {},
        "colab_type": "code",
        "id": "DKHaGQWKEwTX"
      },
      "outputs": [],
      "source": [
        "# Utility class to label metadata codes\n",
        "class Dictionary():\n",
        "    def __init__(self):\n",
        "        self.issue_dict = db.code_dictionary.find_one({\"name\": \"issue\"})['dict']\n",
        "        self.issdc_dict = db.code_dictionary.find_one({\"name\": \"issdc\"})['dict']\n",
        "        self.cvdisp_dict = db.code_dictionary.find_one({\"name\": \"cvdisp\"})['dict']\n",
        "        self.issue_levels = [\"issprog\", \"isscode\", \"isslev1\", \"isslev2\", \"isslev3\"]\n",
        "\n",
        "    # Given issue codes, return the relevant label\n",
        "    def label_issue(self, **kwargs):\n",
        "        list_conditions = []\n",
        "        for var in self.issue_levels:\n",
        "            if var in kwargs:\n",
        "                list_conditions.append(var)\n",
        "                list_conditions.append(str(kwargs[var]))\n",
        "        return reduce(dict.__getitem__, list_conditions + [\"label\"], self.issue_dict)\n",
        "\n",
        "    # Given issdc code, return label\n",
        "    def label_issdc(self, issdc):\n",
        "        return self.issdc_dict[\"issdc\"][str(issdc)]['label']\n",
        "\n",
        "    # Given cvdisp code, return label\n",
        "    def label_cvdisp(self, cvdisp):\n",
        "        return self.cvdisp_dict[\"cvdisp\"][str(cvdisp)]['label']\n",
        "\n",
        "# Init\n",
        "dictionary = Dictionary()"
      ]
    },
    {
      "cell_type": "code",
      "execution_count": 12,
      "metadata": {
        "colab": {
          "base_uri": "https://localhost:8080/",
          "height": 35
        },
        "colab_type": "code",
        "id": "s3MsnJY7E5BL",
        "outputId": "7c7f3297-5672-4e12-d604-169a6a070d0b"
      },
      "outputs": [
        {
          "data": {
            "text/plain": [
              "'10% under 38 C.F.R. 3.324'"
            ]
          },
          "execution_count": 12,
          "metadata": {
            "tags": []
          },
          "output_type": "execute_result"
        }
      ],
      "source": [
        "dictionary.label_issue(issprog=2, isscode=12, isslev1=1)"
      ]
    },
    {
      "cell_type": "code",
      "execution_count": 9,
      "metadata": {
        "colab": {
          "base_uri": "https://localhost:8080/",
          "height": 35
        },
        "colab_type": "code",
        "id": "rh48RQlVFMHf",
        "outputId": "7e483506-0a2c-401a-c432-80597e8f0ccf"
      },
      "outputs": [
        {
          "data": {
            "text/plain": [
              "'Affirmed'"
            ]
          },
          "execution_count": 9,
          "metadata": {
            "tags": []
          },
          "output_type": "execute_result"
        }
      ],
      "source": [
        "dictionary.label_cvdisp(1)"
      ]
    },
    {
      "cell_type": "code",
      "execution_count": 11,
      "metadata": {
        "colab": {
          "base_uri": "https://localhost:8080/",
          "height": 35
        },
        "colab_type": "code",
        "id": "hLRqEsZJFSCB",
        "outputId": "3ab39678-46ce-4846-99b4-8adcc35dc355"
      },
      "outputs": [
        {
          "data": {
            "text/plain": [
              "'Denied (Board Code)'"
            ]
          },
          "execution_count": 11,
          "metadata": {
            "tags": []
          },
          "output_type": "execute_result"
        }
      ],
      "source": [
        "dictionary.label_issdc(4)"
      ]
    }
  ],
  "metadata": {
    "colab": {
      "authorship_tag": "ABX9TyMnctrv2dR4zxS399jvb21I",
      "include_colab_link": true,
      "name": "example_use_dictionary.ipynb",
      "provenance": []
    },
    "kernelspec": {
      "display_name": "Python 3",
      "name": "python3"
    }
  },
  "nbformat": 4,
  "nbformat_minor": 0
}
